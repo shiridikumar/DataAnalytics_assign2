{
  "cells": [
    {
      "cell_type": "markdown",
      "metadata": {
        "id": "y3Tsv3FpJ4wH"
      },
      "source": [
        "## ***Imports***"
      ]
    },
    {
      "cell_type": "code",
      "execution_count": 1,
      "metadata": {
        "id": "ChqbXDvc-11U"
      },
      "outputs": [],
      "source": [
        "import pandas as pd\n",
        "import numpy as np\n",
        "import csv\n",
        "import os\n",
        "from datetime import datetime\n",
        "import time\n",
        "try:\n",
        "  os.mkdir(\"result\")\n",
        "except:\n",
        "  True\n",
        "import matplotlib.pyplot as plt"
      ]
    },
    {
      "cell_type": "markdown",
      "metadata": {
        "id": "xwP4XG0gJwlO"
      },
      "source": [
        "## ***Pre processing***"
      ]
    },
    {
      "cell_type": "code",
      "execution_count": 13,
      "metadata": {
        "id": "0f1qt_frAYds"
      },
      "outputs": [],
      "source": [
        "def preprocess_data(df):\n",
        "  df.drop(axis=1,columns=[\"country-year\"],inplace=True)\n",
        "\n",
        "  df[\"population\"].describe()\n",
        "  med=df[\"population\"].describe()\n",
        "  # print(med)\n",
        "  # ma=df[\"population\"].max()\n",
        "  bins = [0, med[\"25%\"], med[\"75%\"], med[\"max\"]]\n",
        "  labels=[\"Low_population\", \"Medium_population\", \"High_population\"]\n",
        "  df[\"population\"]=pd.cut(df[\"population\"],bins=bins,labels=labels)\n",
        "\n",
        "  med=df[\"suicides_no\"].describe()\n",
        "  # print(med)\n",
        "\n",
        "  bins=[i*10 for i in range((int(med[\"75%\"]+10))//10+2)]\n",
        "  bins.insert(0,-1)\n",
        "  # print(bins)\n",
        "  bins.append(int(med[\"max\"])+1)\n",
        "  labels=[\"{}-{}\".format(bins[i]+1,bins[i+1]) for i in range(len(bins)-1)]\n",
        "  labels[-1]=\">{})\".format(bins[-2])\n",
        "  # labels.insert(0,0)\n",
        "  # print(labels)\n",
        "  print(bins,labels,len(bins),len(labels))\n",
        "  df[\"suicides_no\"]=pd.cut(df[\"suicides_no\"],bins=bins,labels=labels)\n",
        "  med=df[' gdp_for_year ($) '].describe()\n",
        "  # print(med)\n",
        "  bins = [0, med[\"25%\"], med[\"75%\"], med[\"max\"]]\n",
        "  labels=[\"Low_income_country\", \"Medium_income_country\", \"High_income_country\"]\n",
        "  # df[\"population\"]=pd.cut(df[\"population\"],bins=bins,labels=labels)\n",
        "\n",
        "  df[\" gdp_for_year ($) \"]=pd.cut(df[\" gdp_for_year ($) \"],bins=bins,labels=labels)\n",
        "\n",
        "  med=df[\"gdp_per_capita ($)\"].describe()\n",
        "  # print(med)\n",
        "  bins=[i*1000 for i in range(int(med[\"75%\"]+1000)//1000+1)]\n",
        "  bins.append(int(med[\"max\"]))\n",
        "  labels=[\"{}-{}\".format(bins[i],bins[i+1]) for i in range(len(bins)-1)]\n",
        "  # print(bins)\n",
        "  labels[-1]=\">{}\".format(bins[-2])\n",
        "\n",
        "\n",
        "  df[\"gdp_per_capita ($)\"]=pd.cut(df[\"gdp_per_capita ($)\"],bins=bins,labels=labels)\n",
        "  df.drop(axis=1,columns=[\"suicides/100k pop\"],inplace=True)\n",
        "  df.drop(axis=1,columns=[\"HDI for year\"],inplace=True)\n",
        "  return df\n"
      ]
    },
    {
      "cell_type": "markdown",
      "metadata": {
        "id": "CeXpz4eSoPNe"
      },
      "source": [
        "##***computing cubes***"
      ]
    },
    {
      "cell_type": "code",
      "execution_count": 16,
      "metadata": {
        "id": "yAjaQJ12S3S9"
      },
      "outputs": [],
      "source": [
        "minsup_list=[100,250,500,750,1000]"
      ]
    },
    {
      "cell_type": "markdown",
      "metadata": {
        "id": "GhyHyXLPllqH"
      },
      "source": [
        "##***Assuming that the cube fits into main memory***"
      ]
    },
    {
      "cell_type": "code",
      "execution_count": 17,
      "metadata": {
        "colab": {
          "base_uri": "https://localhost:8080/"
        },
        "id": "91-3e0I9q9Bq",
        "outputId": "432f0d7e-e185-4965-a004-39b872786e9c"
      },
      "outputs": [
        {
          "output_type": "stream",
          "name": "stdout",
          "text": [
            "[-1, 0, 10, 20, 30, 40, 50, 60, 70, 80, 90, 100, 110, 120, 130, 140, 150, 22339] ['0-0', '1-10', '11-20', '21-30', '31-40', '41-50', '51-60', '61-70', '71-80', '81-90', '91-100', '101-110', '111-120', '121-130', '131-140', '141-150', '>150)'] 18 17\n",
            "9388\n"
          ]
        }
      ],
      "source": [
        "def getcounts(data):\n",
        "  # print(data)\n",
        "  req=data[:,0]\n",
        "  datacounts=[]\n",
        "  k=0\n",
        "  if(len(req)==1):\n",
        "    return [1]\n",
        "  for i in range(len(req)-1):\n",
        "    k+=1\n",
        "    if(req[i]!=req[i+1]):\n",
        "      datacounts.append(k)\n",
        "      k=0\n",
        "  datacounts.append(k+1)\n",
        "  return datacounts\n",
        "\n",
        "def getcounts_page(file,attr):\n",
        "  temp=pd.read_csv(file)\n",
        "  req=temp[attr]\n",
        "  datacounts=[]\n",
        "  k=0\n",
        "  if(len(req)==1):\n",
        "    return [1]\n",
        "  for i in range(len(req)-1):\n",
        "    k+=1\n",
        "    if(req[i]!=req[i+1]):\n",
        "      datacounts.append(k)\n",
        "      k=0\n",
        "  datacounts.append(k+1)\n",
        "  return datacounts\n",
        "\n",
        "def compute(data,l):\n",
        "  dim=data.shape[1]\n",
        "  if(dim==0):\n",
        "    s.append(l.copy())\n",
        "    s[-1].append(len(data))\n",
        "    return\n",
        "  # print(data[:,0])\n",
        "  data=data[data[:,0].argsort()]\n",
        "\n",
        "  datacounts=getcounts(data)\n",
        "  k=0\n",
        "  for i in range(len(datacounts)):\n",
        "    c=datacounts[i]\n",
        "    if(c>=minsup):\n",
        "      l.append(data[k,0])\n",
        "      compute(data[k:k+c,1:],l.copy())\n",
        "      l.pop()\n",
        "    k+=c\n",
        "  l.append(\"ALL\")\n",
        "  compute(data[:,1:],l.copy())\n",
        "  l.pop()\n",
        "runtimes=[]\n",
        "numcubes=[]\n",
        "df=pd.read_csv(\"master.csv\")\n",
        "df=preprocess_data(df)\n",
        "for i in range(len(minsup_list)):\n",
        "  dup=df\n",
        "  vals=dup.values\n",
        "  vals=vals[vals[:,0].argsort()]\n",
        "  dup.sort_values(\"country\",inplace=True)\n",
        "  s=[]\n",
        "  dic={}\n",
        "  l=[]\n",
        "  start=time.time()\n",
        "  minsup=minsup_list[i]\n",
        "  compute(vals,l)\n",
        "  end= time.time()-start\n",
        "  runtimes.append(end)\n",
        "  numcubes.append(len(s))\n",
        "  break\n",
        "y=s\n",
        "cols=list(dup.columns)\n",
        "cols.append(\"Count\")\n",
        "result=pd.DataFrame(y)\n",
        "result.columns=cols\n",
        "result.to_csv(\"result/result.csv\")\n",
        "print(len(y))"
      ]
    },
    {
      "cell_type": "code",
      "execution_count": 18,
      "metadata": {
        "colab": {
          "base_uri": "https://localhost:8080/"
        },
        "id": "UxR2iKi0jogr",
        "outputId": "cf308d1e-cba3-4b98-bd52-b47f6cd90605"
      },
      "outputs": [
        {
          "output_type": "stream",
          "name": "stdout",
          "text": [
            "[3.0680007934570312]\n",
            "[9388]\n"
          ]
        }
      ],
      "source": [
        "print(runtimes)\n",
        "print(numcubes)"
      ]
    },
    {
      "cell_type": "markdown",
      "metadata": {
        "id": "OLktgkUOzq01"
      },
      "source": [
        "##***out of memory assumption***"
      ]
    },
    {
      "cell_type": "markdown",
      "metadata": {
        "id": "Lfv_D5dV_E3o"
      },
      "source": [
        "##***External merge sort***"
      ]
    },
    {
      "cell_type": "code",
      "execution_count": 19,
      "metadata": {
        "id": "6Ays6Dr9qV0G"
      },
      "outputs": [],
      "source": [
        "def merge_files(filename,fp1,fp2,attr,start,mid,end):\n",
        "  t1=mid-start+1\n",
        "  t2=end-mid\n",
        "  p1=0\n",
        "  p2=0\n",
        "  with open(filename, \"w\") as f:\n",
        "      reader = csv.writer(f)\n",
        "      with open(fp1) as f1:\n",
        "        r1=csv.reader(f1,delimiter=\",\")\n",
        "        with open(fp2) as f2:\n",
        "          r2=csv.reader(f2,delimiter=\",\")\n",
        "          cols=next(r1)\n",
        "          next(r2)\n",
        "          reader.writerow(cols)\n",
        "          val1=next(r1)\n",
        "          val2=next(r2)\n",
        "          condition=\"\"\n",
        "          if(str(val1[attr]).isnumeric()):\n",
        "            condition=\"float(val1[attr])<=float(val2[attr])\"\n",
        "          else:\n",
        "            condition=\"val1[attr]<=val2[attr]\"\n",
        "          while(p1<t1 and p2<t2):\n",
        "            if(eval(condition)):\n",
        "              reader.writerow(val1)\n",
        "              p1+=1\n",
        "              if(p1>=t1):\n",
        "                break\n",
        "              val1=next(r1)\n",
        "            else:\n",
        "              reader.writerow(val2)\n",
        "              p2+=1\n",
        "              if(p2>=t2):\n",
        "                break\n",
        "              val2=next(r2)\n",
        "          \n",
        "          while(p1<t1):\n",
        "            reader.writerow(val1)\n",
        "            p1+=1\n",
        "            if(p1>=t1):\n",
        "              break\n",
        "            val1=next(r1)\n",
        "          while(p2<t2):\n",
        "            reader.writerow(val2)\n",
        "            p2+=1\n",
        "            if(p2>=t2):\n",
        "              break\n",
        "            val2=next(r2)\n",
        "        # print(p1,t1,p2,t2)"
      ]
    },
    {
      "cell_type": "code",
      "execution_count": 20,
      "metadata": {
        "id": "NSRzEr3G_BG-"
      },
      "outputs": [],
      "source": [
        "def external_merge_sort(filename,start,end,attr,columns,rows):\n",
        "  if(end-start<rows):\n",
        "    temp=pd.read_csv(filename)\n",
        "    temp.sort_values(attr,inplace=True)\n",
        "    temp.set_index(temp.columns[0],inplace=True)\n",
        "    temp.to_csv(filename)\n",
        "\n",
        "  else:\n",
        "    mid=(start+end)//2\n",
        "    f1=[]\n",
        "    f2=[]\n",
        "    x=f1\n",
        "    with open(filename) as f:\n",
        "      reader = csv.reader(f, delimiter=\",\")\n",
        "      next(reader)\n",
        "      ind =0\n",
        "      for i,line in enumerate(reader):\n",
        "        f1.append(line)\n",
        "        if(i==mid-start):\n",
        "          break\n",
        "      \n",
        "      for i,line in enumerate(reader):\n",
        "        f2.append(line)\n",
        "\n",
        "    fp=\"{}_{}_{}.csv\"\n",
        "    fp1=fp.format(start,mid,attr)\n",
        "    fp2=fp.format(mid+1,end,attr)\n",
        "    f1=pd.DataFrame(f1)\n",
        "    f1.columns=columns\n",
        "    f1.set_index(f1.columns[0],inplace=True)\n",
        "    f1.to_csv(fp1)\n",
        "    external_merge_sort(fp1,start,mid,attr,columns,rows)\n",
        "    f2=pd.DataFrame(f2)\n",
        "    f2.columns=columns\n",
        "    f2.set_index(f2.columns[0],inplace=True)\n",
        "    f2.to_csv(fp2)\n",
        "    external_merge_sort(fp2,mid+1,end,attr,columns,rows)\n",
        "    merge_files(filename,fp1,fp2,list(columns).index(attr),start,mid,end)\n",
        "    os.remove(fp1)\n",
        "    os.remove(fp2)"
      ]
    },
    {
      "cell_type": "markdown",
      "metadata": {
        "id": "56TW_4CrIwSi"
      },
      "source": [
        "## ***Rough stuff : ignore***"
      ]
    },
    {
      "cell_type": "code",
      "execution_count": null,
      "metadata": {
        "id": "ep61N8py9H63"
      },
      "outputs": [],
      "source": [
        "# df=pd.read_csv(\"master.csv\")\n",
        "# external_merge_sort(\"master.csv\",0,27819,\"country\",df.columns,830)\n",
        "\n",
        "# un=df[\"country\"].unique()\n",
        "# orig={}\n",
        "# for i in range(len(un)):\n",
        "#   orig.update({un[i]:len(df[df.country==un[i]])})\n",
        "\n"
      ]
    },
    {
      "cell_type": "code",
      "execution_count": null,
      "metadata": {
        "id": "v0mYyLyk9hZ9"
      },
      "outputs": [],
      "source": [
        "df=pd.read_csv(\"master.csv\")\n",
        "found=df[\"country\"].unique()\n",
        "new={}\n",
        "for i in range(len(found)):\n",
        "  new.update({found[i]:len(df[df.country==found[i]])})"
      ]
    },
    {
      "cell_type": "markdown",
      "metadata": {
        "id": "U68oRLBqI5iT"
      },
      "source": [
        "## ***Table class***"
      ]
    },
    {
      "cell_type": "code",
      "execution_count": 21,
      "metadata": {
        "id": "CHKl2yXzlXRO"
      },
      "outputs": [],
      "source": [
        "# approxiamting each tuple of a table is of fixed length\n",
        "# approximating block size to store 10000 entries of a table instead of hardcoding it to x bytes\n",
        "# so no of row that could be stored in a block = floor(10000/(no of columns))\n",
        "global block_size\n",
        "block_size=2 # in (10k entries)\n",
        "global pagenumber\n",
        "pagenumber=0\n",
        "global pageids\n",
        "pageids={}\n",
        "class Table:\n",
        "  def __init__(self,file):\n",
        "    self.filename=file\n",
        "    # pageid.update({file:self.filename})\n",
        "    # pagenumber+=1\n",
        "    rowCount=0\n",
        "    temp=pd.read_csv(self.filename,nrows=1)\n",
        "    self.numColumns=len(temp.columns)\n",
        "    self.columns=temp.columns\n",
        "    with open(self.filename) as f:\n",
        "      reader = csv.reader(f, delimiter=\",\")\n",
        "      for i, line in enumerate(reader):\n",
        "        rowCount+=1\n",
        "    self.numRows=rowCount\n",
        "    self.numRowsinBlock=block_size*1000//self.numColumns\n",
        "\n",
        "  def partition(self,attr):\n",
        "\n",
        "    total=0\n",
        "    self.numRowsinBlock=block_size*1000//self.numColumns\n",
        "    # print(self.numRowsinBlock)\n",
        "    # print(self.numColumns,self.numRows)\n",
        "    block=[]\n",
        "    # print(self.numRows)\n",
        "    # print()\n",
        "    index=list(self.columns).index(attr)\n",
        "    external_merge_sort(self.filename,0,self.numRows-2,attr,self.columns,self.numRowsinBlock)\n",
        "    c=getcounts_page(self.filename,attr)\n",
        "    with open(self.filename) as f:\n",
        "      reader = csv.reader(f,delimiter=\",\")\n",
        "      for i in range(len(c)):\n",
        "        self.write_partition(self.filename,attr,c[i],i,reader)\n",
        "        # self.make_pages(self.filename,attr,c[i],i,reader)\n",
        "    return c\n",
        "  \n",
        "  def get_partition_value(self,attr):\n",
        "    with open(self.filename,\"r\") as f:\n",
        "      reader=csv.reader(f,delimiter=\",\")\n",
        "      next(reader)\n",
        "      index=list(self.columns).index(attr)\n",
        "      for i,line in enumerate(reader):\n",
        "        val=line[index]\n",
        "        break\n",
        "    return val\n",
        " \n",
        "  def write_partition(self,filename,attr,count,i,reader):\n",
        "      global pagenumber\n",
        "      global pageid\n",
        "      if(i==0):\n",
        "        next(reader)\n",
        "      with open(\"page_{}\".format(pagenumber).format(filename,attr,i),\"w\") as f:\n",
        "        writer=csv.writer(f)\n",
        "        pageids.update({\"{}_{}_{}\".format(filename,attr,i):\"page_{}\".format(pagenumber)})\n",
        "        pagenumber+=1\n",
        "        index=list(self.columns).index(attr)\n",
        "        writer.writerow(list(self.columns)[index:])\n",
        "        ind=0\n",
        "        for i ,line in enumerate(reader):\n",
        "          writer.writerow(line[index:])\n",
        "          ind+=1\n",
        "          if(ind==count):\n",
        "            break\n",
        "      \n",
        "  # def make_pages(self,filename,attr,count,i,reader):\n",
        "  #   block=[]\n",
        "  #   filestring=\"{}_{}_{}\".format(filename,attr,i)\n",
        "  #   with open(filestring,\"r\") as f1:\n",
        "  #     r1=csv.reader(f1)\n",
        "  #     ind=0\n",
        "  #     next(r1)\n",
        "  #     pageindex=0\n",
        "  #     for i,line in enumerate(r1):\n",
        "  #       block.append(line)\n",
        "  #       if(len(block)==self.numRowsinBlock):\n",
        "  #         newpage=Page(block,filestring,pageindex,list(self.columns))\n",
        "  #         block=[]\n",
        "  #         pageindex+=1\n",
        "  #     if(len(block)!=0):\n",
        "  #        newpage=Page(block,filestring,pageindex,list(self.columns))\n",
        "  #        block=[]\n",
        "  def getvalues(self):\n",
        "    df=pd.read_csv(self.filename)\n",
        "    return df.values\n",
        "\n",
        "  # def getpage(self):\n",
        "  #   p=Page(0,self.filename)\n",
        "  #   self.curr=0\n",
        "  #   return p.read_page()\n",
        "  \n",
        "  # def getnextpage(self):\n",
        "  #   self.curr+=1\n",
        "  #   if(self.curr<self.block_no):\n",
        "  #     p=Page(self.curr,self.filename)\n",
        "  #     return p.read_page()\n",
        "  #   else:\n",
        "  #     return False\n",
        "\n",
        "# class Page(Table):\n",
        "#   def __init__(self,block,filestring,pageindex,columns):\n",
        "#     self.filename=filestring+\"_page\"+str(pageindex)\n",
        "#     self.pageindex=pageindex\n",
        "#     temp=pd.DataFrame(block)\n",
        "#     temp.columns=columns\n",
        "#     self.numColumn=len(columns)\n",
        "#     self.numRows=len(block)\n",
        "#     # print(self.numRows,\"***\")\n",
        "#     temp.set_index(columns[0],inplace=True)\n",
        "#     temp.to_csv(self.filename)\n",
        "\n",
        "#   def read_page(self):\n",
        "#     df=pd.read_csv(self.filename[:-3]+\"_\"+str(self.pageindex)+\".csv\")\n",
        "#     return df"
      ]
    },
    {
      "cell_type": "markdown",
      "metadata": {
        "id": "EPo_o7Ixz75O"
      },
      "source": [
        "##***Buc Algorithm***"
      ]
    },
    {
      "cell_type": "code",
      "execution_count": 22,
      "metadata": {
        "id": "iz8DgVsQUTiq"
      },
      "outputs": [],
      "source": [
        "global depth\n",
        "depth=0\n",
        "def compute(data,l,attr,vals):\n",
        "  global pagenumber\n",
        "  global pageid\n",
        "  global depth\n",
        "  # if(depth==300):\n",
        "  #   return\n",
        "  # depth+=1\n",
        "\n",
        "  if(attr==None):\n",
        "    s.append(l.copy())\n",
        "    if(len(vals)==0):\n",
        "      s[-1].append(data.numRows-1)\n",
        "    else:\n",
        "      s[-1].append(len(vals))\n",
        "    return \n",
        "\n",
        "  temp=[]\n",
        "\n",
        "  if(len(vals)==0):\n",
        "    if(data.numRows-1>data.numRowsinBlock):\n",
        "      datacounts=data.partition(attr)\n",
        "    else:\n",
        "      vals=data.getvalues()\n",
        "      # print(list(data.columns),attr)\n",
        "      index=list(data.columns).index(attr)\n",
        "      vals=vals[:,index:]\n",
        "      vals=vals[vals[:,0].argsort()]\n",
        "      datacounts=getcounts(vals)\n",
        "      temp=vals.copy()\n",
        "\n",
        "  else:\n",
        "    vals=vals[vals[:,0].argsort()]\n",
        "    datacounts=getcounts(vals)\n",
        "    temp=vals.copy()\n",
        "\n",
        "  k=0\n",
        "\n",
        "  for i in range(len(datacounts)):\n",
        "    c=datacounts[i]\n",
        "    if(len(vals)==0):\n",
        "      if(c>=minsup):\n",
        "        tab=Table(pageids[\"{}_{}_{}\".format(data.filename,attr,i)])\n",
        "        l.append(tab.get_partition_value(attr))\n",
        "        # print(c,data.numRows-1,l[0])\n",
        "        index=list(data.columns).index(attr)\n",
        "        \n",
        "        if(data.numColumns>index+1):\n",
        "          compute(tab,l,list(data.columns)[index+1],[])\n",
        "        else:\n",
        "          compute(tab,l,None,[])\n",
        "        l.pop()\n",
        "    else:\n",
        "      if(c>=minsup):\n",
        "        # print(c,len(vals))\n",
        "        l.append(vals[k,0])\n",
        "        if(vals.shape[1]>1):\n",
        "          compute(data,l,attr,vals[k:k+c,1:])\n",
        "        else:\n",
        "          compute(data,l,None,vals[k:k+c,1:])\n",
        "        l.pop()\n",
        "    k+=c\n",
        "  l.append(\"ALL\")\n",
        "  index=list(data.columns).index(attr)\n",
        "  if(len(vals)==0):\n",
        "    if(data.numColumns>index+1):\n",
        "      compute(data,l,list(data.columns)[index+1],[])\n",
        "    else:\n",
        "      compute(data,l,None,[])\n",
        "  else:\n",
        "    if(vals.shape[1]>1):\n",
        "      compute(data,l,attr,vals[:,1:])\n",
        "    else:\n",
        "      compute(data,l,None,vals[:,1:])\n",
        "\n",
        "  l.pop()\n"
      ]
    },
    {
      "cell_type": "code",
      "execution_count": 23,
      "metadata": {
        "colab": {
          "base_uri": "https://localhost:8080/"
        },
        "id": "KMvgc7bNZ6I8",
        "outputId": "262f85f2-7b52-4e4b-aa05-9533792d88ee"
      },
      "outputs": [
        {
          "output_type": "stream",
          "name": "stdout",
          "text": [
            "[-1, 0, 10, 20, 30, 40, 50, 60, 70, 80, 90, 100, 110, 120, 130, 140, 150, 22339] ['0-0', '1-10', '11-20', '21-30', '31-40', '41-50', '51-60', '61-70', '71-80', '81-90', '91-100', '101-110', '111-120', '121-130', '131-140', '141-150', '>150)'] 18 17\n"
          ]
        }
      ],
      "source": [
        "df=pd.read_csv(\"master.csv\")\n",
        "df=preprocess_data(df)\n",
        "df.set_index(list(df.columns)[0],inplace=True)\n",
        "df.to_csv(\"preprocessed.csv\")"
      ]
    },
    {
      "cell_type": "markdown",
      "metadata": {
        "id": "UOiQaChLJQOf"
      },
      "source": [
        "## ***Driver code***"
      ]
    },
    {
      "cell_type": "code",
      "source": [
        "numcubes_paging=[]\n",
        "runtimes_paging=[]\n",
        "\n",
        "l=[]\n",
        "pageids={}\n",
        "pagenumber=0\n",
        "s=[]\n",
        "st=time.time()\n",
        "minsup=minsup_list[0]\n",
        "tab=Table(\"preprocessed.csv\")\n",
        "compute(tab,l,list(tab.columns)[0],[])\n",
        "end=time.time()-st\n",
        "\n",
        "  # numcubes_paging.append(len(s))\n",
        "  # runtimes_paging.append(end)"
      ],
      "metadata": {
        "id": "3B3OrkWNAeBo"
      },
      "execution_count": 24,
      "outputs": []
    },
    {
      "cell_type": "markdown",
      "source": [
        "##***Generating data  for visualizations (varying support count and block size)***"
      ],
      "metadata": {
        "id": "HmeL1eLZAphG"
      }
    },
    {
      "cell_type": "code",
      "execution_count": null,
      "metadata": {
        "id": "tnT2E1owGJ3L"
      },
      "outputs": [],
      "source": [
        "numcubes_paging=[]\n",
        "runtimes_paging=[]\n",
        "for i in range(len(minsup_list)):\n",
        "  l=[]\n",
        "  pageids={}\n",
        "  pagenumber=0\n",
        "  s=[]\n",
        "  st=time.time()\n",
        "  minsup=minsup_list[i]\n",
        "  tab=Table(\"preprocessed.csv\")\n",
        "  compute(tab,l,list(tab.columns)[0],[])\n",
        "  end=time.time()-st\n",
        "\n",
        "  numcubes_paging.append(len(s))\n",
        "  runtimes_paging.append(end)\n"
      ]
    },
    {
      "cell_type": "code",
      "execution_count": null,
      "metadata": {
        "colab": {
          "base_uri": "https://localhost:8080/"
        },
        "id": "ha9__wi15OY4",
        "outputId": "ce2c8c2a-8363-4d21-dd38-f190af64c85f"
      },
      "outputs": [
        {
          "output_type": "stream",
          "name": "stdout",
          "text": [
            "187.06388449668884 0\n",
            "119.2845389842987 1\n",
            "84.23395848274231 2\n",
            "79.79100036621094 3\n",
            "60.215980768203735 4\n"
          ]
        }
      ],
      "source": [
        "block_sizes=[2,5,10,12,15]\n",
        "numcubes_paging=[]\n",
        "runtimes_paging=[]\n",
        "for i in range(len(block_sizes)):\n",
        "  l=[]\n",
        "  pageids={}\n",
        "  pagenumber=0\n",
        "  s=[]\n",
        "  st=time.time()\n",
        "  block_size=block_sizes[i]\n",
        "  # minsup=minsup_list[i]\n",
        "  tab=Table(\"preprocessed.csv\")\n",
        "  compute(tab,l,list(tab.columns)[0],[])\n",
        "  end=time.time()-st\n",
        "  print(end,i)\n",
        "\n",
        "  numcubes_paging.append(len(s))\n",
        "  runtimes_paging.append(end)\n"
      ]
    },
    {
      "cell_type": "code",
      "source": [
        "sns.set()\n",
        "plt.title(\"Runtime vs Blocksize with support count= 1000\")\n",
        "plt.plot(block_sizes,runtimes_paging,marker=\"*\")\n",
        "plt.xlabel(\"Block sizes  (in k entries)\")\n",
        "plt.ylabel(\"Runtime in secs\")\n"
      ],
      "metadata": {
        "colab": {
          "base_uri": "https://localhost:8080/",
          "height": 318
        },
        "id": "89gJKBDD_lPL",
        "outputId": "ada13efb-3d2e-4025-d694-1b7560af07f9"
      },
      "execution_count": null,
      "outputs": [
        {
          "output_type": "execute_result",
          "data": {
            "text/plain": [
              "Text(0, 0.5, 'Runtime in secs')"
            ]
          },
          "metadata": {},
          "execution_count": 106
        },
        {
          "output_type": "display_data",
          "data": {
            "text/plain": [
              "<Figure size 432x288 with 1 Axes>"
            ],
            "image/png": "[encoded data removed]"
          },
          "metadata": {}
        }
      ]
    },
    {
      "cell_type": "code",
      "execution_count": null,
      "metadata": {
        "colab": {
          "base_uri": "https://localhost:8080/"
        },
        "id": "F3WzgFl_pxtc",
        "outputId": "540d054f-2393-4c4f-f679-ba6c3e7664b9"
      },
      "outputs": [
        {
          "name": "stdout",
          "output_type": "stream",
          "text": [
            "[9388, 2810, 1045, 585, 402]\n",
            "[227.4637360572815, 215.38430070877075, 192.93599438667297, 180.17787981033325, 168.13243126869202]\n"
          ]
        }
      ],
      "source": [
        "print(numcubes)\n",
        "print(runtimes_paging)"
      ]
    },
    {
      "cell_type": "code",
      "execution_count": null,
      "metadata": {
        "colab": {
          "base_uri": "https://localhost:8080/",
          "height": 318
        },
        "id": "jfNLmADe06Sh",
        "outputId": "1407fac8-8fd4-4863-f7e6-a05b94062b70"
      },
      "outputs": [
        {
          "data": {
            "text/plain": [
              "Text(0, 0.5, 'RUntime in secs')"
            ]
          },
          "execution_count": 86,
          "metadata": {},
          "output_type": "execute_result"
        },
        {
          "data": {
            "image/png": "[encoded data removed]",
            "text/plain": [
              "<Figure size 432x288 with 1 Axes>"
            ]
          },
          "metadata": {},
          "output_type": "display_data"
        }
      ],
      "source": [
        "import matplotlib.pyplot as plt\n",
        "import seaborn as sns\n",
        "sns.set()\n",
        "plt.title(\"Runtime Vs MinSupport count (Paging Implementation)\")\n",
        "plt.plot(minsup_list,runtimes_paging,marker=\"*\")\n",
        "plt.xlabel(\"MinSupport count\")\n",
        "plt.ylabel(\"RUntime in secs\")\n",
        "# plt.plot(runtimes_paging)"
      ]
    },
    {
      "cell_type": "code",
      "execution_count": null,
      "metadata": {
        "colab": {
          "base_uri": "https://localhost:8080/",
          "height": 318
        },
        "id": "RanzR3-S2G3I",
        "outputId": "4345faf7-06f5-4e02-8e05-7d8bd4e9afe0"
      },
      "outputs": [
        {
          "data": {
            "text/plain": [
              "Text(0, 0.5, 'RUntime in secs')"
            ]
          },
          "execution_count": 87,
          "metadata": {},
          "output_type": "execute_result"
        },
        {
          "data": {
            "image/png": "[encoded data removed]",
            "text/plain": [
              "<Figure size 432x288 with 1 Axes>"
            ]
          },
          "metadata": {},
          "output_type": "display_data"
        }
      ],
      "source": [
        "import matplotlib.pyplot as plt\n",
        "import seaborn as sns\n",
        "sns.set()\n",
        "plt.title(\"Runtime Vs MinSupport count (in_memory Implementation)\")\n",
        "plt.plot(minsup_list,runtimes,marker=\"*\")\n",
        "plt.xlabel(\"MinSupport count\")\n",
        "plt.ylabel(\"RUntime in secs\")\n",
        "# plt.plot(runtimes_paging)"
      ]
    },
    {
      "cell_type": "code",
      "execution_count": null,
      "metadata": {
        "colab": {
          "base_uri": "https://localhost:8080/",
          "height": 302
        },
        "id": "iaKYEMjn3OyO",
        "outputId": "c46cf1f8-8128-4cb4-ee9e-d7357a43ac5b"
      },
      "outputs": [
        {
          "data": {
            "text/plain": [
              "Text(0, 0.5, 'Number of cubes')"
            ]
          },
          "execution_count": 90,
          "metadata": {},
          "output_type": "execute_result"
        },
        {
          "data": {
            "image/png": "[encoded data removed]",
            "text/plain": [
              "<Figure size 432x288 with 1 Axes>"
            ]
          },
          "metadata": {},
          "output_type": "display_data"
        }
      ],
      "source": [
        "plt.plot(minsup_list,numcubes_paging,marker=\"*\")\n",
        "plt.xlabel(\"MinSupport count\")\n",
        "plt.ylabel(\"Number of cubes\")"
      ]
    },
    {
      "cell_type": "code",
      "execution_count": null,
      "metadata": {
        "id": "ao_JTY4xachs"
      },
      "outputs": [],
      "source": [
        "result=pd.DataFrame(s)"
      ]
    },
    {
      "cell_type": "code",
      "execution_count": null,
      "metadata": {
        "id": "l4_NApBSVQOb"
      },
      "outputs": [],
      "source": [
        "cols=list(tab.columns)\n",
        "cols.append(\"Count\")\n",
        "result.columns=cols\n",
        "result.to_csv(\"result/result.csv\")"
      ]
    },
    {
      "cell_type": "markdown",
      "metadata": {
        "id": "TsBXIw7mJYWc"
      },
      "source": [
        "## ***Test***"
      ]
    },
    {
      "cell_type": "code",
      "execution_count": 25,
      "metadata": {
        "id": "po-hZ54F30i1"
      },
      "outputs": [],
      "source": [
        "for i in range(len(y)):\n",
        "  y[i][1]=str(y[i][1])\n",
        "  s[i][1]=str(s[i][1])"
      ]
    },
    {
      "cell_type": "code",
      "execution_count": 26,
      "metadata": {
        "id": "arC6mFmX4Y8K"
      },
      "outputs": [],
      "source": [
        "for i in range(len(y)):\n",
        "  if(y[i]!=s[i]):\n",
        "    print(\"******\")"
      ]
    }
  ],
  "metadata": {
    "accelerator": "GPU",
    "colab": {
      "collapsed_sections": [
        "56TW_4CrIwSi"
      ],
      "provenance": []
    },
    "gpuClass": "standard",
    "kernelspec": {
      "display_name": "Python 3",
      "name": "python3"
    },
    "language_info": {
      "name": "python"
    }
  },
  "nbformat": 4,
  "nbformat_minor": 0
}
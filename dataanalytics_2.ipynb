{
  "nbformat": 4,
  "nbformat_minor": 0,
  "metadata": {
    "colab": {
      "provenance": [],
      "collapsed_sections": [
        "GhyHyXLPllqH",
        "Lfv_D5dV_E3o",
        "56TW_4CrIwSi",
        "U68oRLBqI5iT",
        "EPo_o7Ixz75O",
        "UOiQaChLJQOf",
        "TsBXIw7mJYWc"
      ]
    },
    "kernelspec": {
      "name": "python3",
      "display_name": "Python 3"
    },
    "language_info": {
      "name": "python"
    },
    "accelerator": "GPU",
    "gpuClass": "standard"
  },
  "cells": [
    {
      "cell_type": "markdown",
      "source": [
        "## ***Imports***"
      ],
      "metadata": {
        "id": "y3Tsv3FpJ4wH"
      }
    },
    {
      "cell_type": "code",
      "execution_count": 389,
      "metadata": {
        "id": "ChqbXDvc-11U"
      },
      "outputs": [],
      "source": [
        "import pandas as pd\n",
        "import numpy as np\n",
        "import csv\n",
        "import os"
      ]
    },
    {
      "cell_type": "markdown",
      "source": [
        "## ***Pre processing***"
      ],
      "metadata": {
        "id": "xwP4XG0gJwlO"
      }
    },
    {
      "cell_type": "code",
      "source": [
        "df=pd.read_csv(\"master.csv\")\n",
        "def preprocess_data(df):\n",
        "  df.drop(axis=1,columns=[\"country-year\"],inplace=True)\n",
        "\n",
        "  df[\"population\"].describe()\n",
        "  med=df[\"population\"].describe()\n",
        "  # print(med)\n",
        "  # ma=df[\"population\"].max()\n",
        "  bins = [0, med[\"25%\"], med[\"75%\"], med[\"max\"]]\n",
        "  labels=[\"Low_population\", \"Medium_population\", \"High_population\"]\n",
        "  df[\"population\"]=pd.cut(df[\"population\"],bins=bins,labels=labels)\n",
        "\n",
        "  med=df[\"suicides_no\"].describe()\n",
        "  # print(med)\n",
        "\n",
        "  bins=[i*10 for i in range((int(med[\"75%\"]+10))//10+2)]\n",
        "  bins.insert(0,-1)\n",
        "  # print(bins)\n",
        "  bins.append(int(med[\"max\"])+1)\n",
        "  labels=[\"{}-{}\".format(bins[i]+1,bins[i+1]) for i in range(len(bins)-1)]\n",
        "  labels[-1]=\">{})\".format(bins[-2])\n",
        "  # labels.insert(0,0)\n",
        "  # print(labels)\n",
        "  print(bins,labels,len(bins),len(labels))\n",
        "  df[\"suicides_no\"]=pd.cut(df[\"suicides_no\"],bins=bins,labels=labels)\n",
        "  med=df[' gdp_for_year ($) '].describe()\n",
        "  # print(med)\n",
        "  bins = [0, med[\"25%\"], med[\"75%\"], med[\"max\"]]\n",
        "  labels=[\"Low_income_country\", \"Medium_income_country\", \"High_income_country\"]\n",
        "  # df[\"population\"]=pd.cut(df[\"population\"],bins=bins,labels=labels)\n",
        "\n",
        "  df[\" gdp_for_year ($) \"]=pd.cut(df[\" gdp_for_year ($) \"],bins=bins,labels=labels)\n",
        "\n",
        "  med=df[\"gdp_per_capita ($)\"].describe()\n",
        "  # print(med)\n",
        "  bins=[i*1000 for i in range(int(med[\"75%\"]+1000)//1000+1)]\n",
        "  bins.append(int(med[\"max\"]))\n",
        "  labels=[\"{}-{}\".format(bins[i],bins[i+1]) for i in range(len(bins)-1)]\n",
        "  # print(bins)\n",
        "  labels[-1]=\">{}\".format(bins[-2])\n",
        "\n",
        "\n",
        "  df[\"gdp_per_capita ($)\"]=pd.cut(df[\"gdp_per_capita ($)\"],bins=bins,labels=labels)\n",
        "  df.drop(axis=1,columns=[\"suicides/100k pop\"],inplace=True)\n",
        "  df.drop(axis=1,columns=[\"HDI for year\"],inplace=True)\n",
        "  return df\n",
        "df=preprocess_data(df)"
      ],
      "metadata": {
        "id": "0f1qt_frAYds",
        "colab": {
          "base_uri": "https://localhost:8080/"
        },
        "outputId": "03979276-3d7b-4be4-c466-c5c9c056cadf"
      },
      "execution_count": 447,
      "outputs": [
        {
          "output_type": "stream",
          "name": "stdout",
          "text": [
            "[-1, 0, 10, 20, 30, 40, 50, 60, 70, 80, 90, 100, 110, 120, 130, 140, 150, 22339] ['0-0', '1-10', '11-20', '21-30', '31-40', '41-50', '51-60', '61-70', '71-80', '81-90', '91-100', '101-110', '111-120', '121-130', '131-140', '141-150', '>150)'] 18 17\n"
          ]
        }
      ]
    },
    {
      "cell_type": "markdown",
      "source": [
        "##***computing cubes***"
      ],
      "metadata": {
        "id": "CeXpz4eSoPNe"
      }
    },
    {
      "cell_type": "code",
      "source": [
        "minsup=100"
      ],
      "metadata": {
        "id": "yAjaQJ12S3S9"
      },
      "execution_count": 431,
      "outputs": []
    },
    {
      "cell_type": "markdown",
      "source": [
        "##***Assuming that the cube fits into main memory***"
      ],
      "metadata": {
        "id": "GhyHyXLPllqH"
      }
    },
    {
      "cell_type": "code",
      "source": [
        "def getcounts(data):\n",
        "  # print(data)\n",
        "  req=data[:,0]\n",
        "  datacounts=[]\n",
        "  k=0\n",
        "  if(len(req)==1):\n",
        "    return [1]\n",
        "  for i in range(len(req)-1):\n",
        "    k+=1\n",
        "    if(req[i]!=req[i+1]):\n",
        "      datacounts.append(k)\n",
        "      k=0\n",
        "  datacounts.append(k+1)\n",
        "  return datacounts\n",
        "\n",
        "def getcounts_page(file,attr):\n",
        "  temp=pd.read_csv(file)\n",
        "  req=temp[attr]\n",
        "  datacounts=[]\n",
        "  k=0\n",
        "  if(len(req)==1):\n",
        "    return [1]\n",
        "  for i in range(len(req)-1):\n",
        "    k+=1\n",
        "    if(req[i]!=req[i+1]):\n",
        "      datacounts.append(k)\n",
        "      k=0\n",
        "  datacounts.append(k+1)\n",
        "  return datacounts\n",
        "\n",
        "dup=df\n",
        "vals=dup.values\n",
        "vals=vals[vals[:,0].argsort()]\n",
        "dup.sort_values(\"country\",inplace=True)\n",
        "s=[]\n",
        "dic={}\n",
        "l=[]\n",
        "def compute(data,l):\n",
        "  dim=data.shape[1]\n",
        "  if(dim==0):\n",
        "    s.append(l.copy())\n",
        "    s[-1].append(len(data))\n",
        "    return\n",
        "  # print(data[:,0])\n",
        "  data=data[data[:,0].argsort()]\n",
        "\n",
        "  datacounts=getcounts(data)\n",
        "  k=0\n",
        "  for i in range(len(datacounts)):\n",
        "    c=datacounts[i]\n",
        "    if(c>=minsup):\n",
        "      l.append(data[k,0])\n",
        "      compute(data[k:k+c,1:],l.copy())\n",
        "      l.pop()\n",
        "    k+=c\n",
        "  l.append(\"ALL\")\n",
        "  compute(data[:,1:],l.copy())\n",
        "  l.pop()\n",
        "compute(vals,l)\n",
        "y=s\n",
        "print(len(y))"
      ],
      "metadata": {
        "id": "91-3e0I9q9Bq",
        "colab": {
          "base_uri": "https://localhost:8080/"
        },
        "outputId": "3b402652-c694-4b5a-a5f9-eec3b0bc9da9"
      },
      "execution_count": 433,
      "outputs": [
        {
          "output_type": "stream",
          "name": "stdout",
          "text": [
            "9388\n"
          ]
        }
      ]
    },
    {
      "cell_type": "markdown",
      "source": [
        "##***out of memory assumption***"
      ],
      "metadata": {
        "id": "OLktgkUOzq01"
      }
    },
    {
      "cell_type": "markdown",
      "source": [
        "##***External merge sort***"
      ],
      "metadata": {
        "id": "Lfv_D5dV_E3o"
      }
    },
    {
      "cell_type": "code",
      "source": [
        "def merge_files(filename,fp1,fp2,attr,start,mid,end):\n",
        "  t1=mid-start+1\n",
        "  t2=end-mid\n",
        "  p1=0\n",
        "  p2=0\n",
        "  with open(filename, \"w\") as f:\n",
        "      reader = csv.writer(f)\n",
        "      with open(fp1) as f1:\n",
        "        r1=csv.reader(f1,delimiter=\",\")\n",
        "        with open(fp2) as f2:\n",
        "          r2=csv.reader(f2,delimiter=\",\")\n",
        "          cols=next(r1)\n",
        "          next(r2)\n",
        "          reader.writerow(cols)\n",
        "          val1=next(r1)\n",
        "          val2=next(r2)\n",
        "          condition=\"\"\n",
        "          if(str(val1[attr]).isnumeric()):\n",
        "            condition=\"float(val1[attr])<=float(val2[attr])\"\n",
        "          else:\n",
        "            condition=\"val1[attr]<=val2[attr]\"\n",
        "          while(p1<t1 and p2<t2):\n",
        "            if(eval(condition)):\n",
        "              reader.writerow(val1)\n",
        "              p1+=1\n",
        "              if(p1>=t1):\n",
        "                break\n",
        "              val1=next(r1)\n",
        "            else:\n",
        "              reader.writerow(val2)\n",
        "              p2+=1\n",
        "              if(p2>=t2):\n",
        "                break\n",
        "              val2=next(r2)\n",
        "          \n",
        "          while(p1<t1):\n",
        "            reader.writerow(val1)\n",
        "            p1+=1\n",
        "            if(p1>=t1):\n",
        "              break\n",
        "            val1=next(r1)\n",
        "          while(p2<t2):\n",
        "            reader.writerow(val2)\n",
        "            p2+=1\n",
        "            if(p2>=t2):\n",
        "              break\n",
        "            val2=next(r2)\n",
        "        # print(p1,t1,p2,t2)"
      ],
      "metadata": {
        "id": "6Ays6Dr9qV0G"
      },
      "execution_count": 434,
      "outputs": []
    },
    {
      "cell_type": "code",
      "source": [
        "rows=830\n",
        "def external_merge_sort(filename,start,end,attr,columns,rows):\n",
        "  if(end-start<rows):\n",
        "    temp=pd.read_csv(filename)\n",
        "    temp.sort_values(attr,inplace=True)\n",
        "    temp.set_index(temp.columns[0],inplace=True)\n",
        "    temp.to_csv(filename)\n",
        "\n",
        "  else:\n",
        "    mid=(start+end)//2\n",
        "    f1=[]\n",
        "    f2=[]\n",
        "    x=f1\n",
        "    with open(filename) as f:\n",
        "      reader = csv.reader(f, delimiter=\",\")\n",
        "      next(reader)\n",
        "      ind =0\n",
        "      for i,line in enumerate(reader):\n",
        "        f1.append(line)\n",
        "        if(i==mid-start):\n",
        "          break\n",
        "      \n",
        "      for i,line in enumerate(reader):\n",
        "        f2.append(line)\n",
        "\n",
        "    fp=\"{}_{}_{}.csv\"\n",
        "    fp1=fp.format(start,mid,attr)\n",
        "    fp2=fp.format(mid+1,end,attr)\n",
        "    f1=pd.DataFrame(f1)\n",
        "    f1.columns=columns\n",
        "    f1.set_index(f1.columns[0],inplace=True)\n",
        "    f1.to_csv(fp1)\n",
        "    external_merge_sort(fp1,start,mid,attr,columns,rows)\n",
        "    f2=pd.DataFrame(f2)\n",
        "    f2.columns=columns\n",
        "    f2.set_index(f2.columns[0],inplace=True)\n",
        "    f2.to_csv(fp2)\n",
        "    external_merge_sort(fp2,mid+1,end,attr,columns,rows)\n",
        "    merge_files(filename,fp1,fp2,list(columns).index(attr),start,mid,end)\n",
        "    os.remove(fp1)\n",
        "    os.remove(fp2)"
      ],
      "metadata": {
        "id": "NSRzEr3G_BG-"
      },
      "execution_count": 435,
      "outputs": []
    },
    {
      "cell_type": "markdown",
      "source": [
        "## ***Rough stuff : ignore***"
      ],
      "metadata": {
        "id": "56TW_4CrIwSi"
      }
    },
    {
      "cell_type": "code",
      "source": [
        "# df=pd.read_csv(\"master.csv\")\n",
        "# external_merge_sort(\"master.csv\",0,27819,\"country\",df.columns,830)\n",
        "\n",
        "# un=df[\"country\"].unique()\n",
        "# orig={}\n",
        "# for i in range(len(un)):\n",
        "#   orig.update({un[i]:len(df[df.country==un[i]])})\n",
        "\n"
      ],
      "metadata": {
        "id": "ep61N8py9H63"
      },
      "execution_count": 436,
      "outputs": []
    },
    {
      "cell_type": "code",
      "source": [
        "df=pd.read_csv(\"master.csv\")\n",
        "found=df[\"country\"].unique()\n",
        "new={}\n",
        "for i in range(len(found)):\n",
        "  new.update({found[i]:len(df[df.country==found[i]])})"
      ],
      "metadata": {
        "id": "v0mYyLyk9hZ9"
      },
      "execution_count": 437,
      "outputs": []
    },
    {
      "cell_type": "markdown",
      "source": [
        "## ***Table class***"
      ],
      "metadata": {
        "id": "U68oRLBqI5iT"
      }
    },
    {
      "cell_type": "code",
      "source": [
        "# approxiamting each tuple of a table is of fixed length\n",
        "# approximating block size to store 10000 entries of a table instead of hardcoding it to x bytes\n",
        "# so no of row that could be stored in a block = floor(10000/(no of columns))\n",
        "global block_size\n",
        "block_size=2 # in (10k entries)\n",
        "global pagenumber\n",
        "pagenumber=0\n",
        "global pageids\n",
        "pageids={}\n",
        "class Table:\n",
        "  def __init__(self,file):\n",
        "    self.filename=file\n",
        "    # pageid.update({file:self.filename})\n",
        "    # pagenumber+=1\n",
        "    rowCount=0\n",
        "    temp=pd.read_csv(self.filename,nrows=1)\n",
        "    self.numColumns=len(temp.columns)\n",
        "    self.columns=temp.columns\n",
        "    with open(self.filename) as f:\n",
        "      reader = csv.reader(f, delimiter=\",\")\n",
        "      for i, line in enumerate(reader):\n",
        "        rowCount+=1\n",
        "    self.numRows=rowCount\n",
        "    self.numRowsinBlock=block_size*1000//self.numColumns\n",
        "\n",
        "  def partition(self,attr):\n",
        "\n",
        "    total=0\n",
        "    self.numRowsinBlock=block_size*1000//self.numColumns\n",
        "    # print(self.numRowsinBlock)\n",
        "    # print(self.numColumns,self.numRows)\n",
        "    block=[]\n",
        "    # print(self.numRows)\n",
        "    index=list(df.columns).index(attr)\n",
        "    external_merge_sort(self.filename,0,self.numRows-2,attr,self.columns,self.numRowsinBlock)\n",
        "    c=getcounts_page(self.filename,attr)\n",
        "    with open(self.filename) as f:\n",
        "      reader = csv.reader(f,delimiter=\",\")\n",
        "      for i in range(len(c)):\n",
        "        self.write_partition(self.filename,attr,c[i],i,reader)\n",
        "        # self.make_pages(self.filename,attr,c[i],i,reader)\n",
        "    return c\n",
        "  \n",
        "  def get_partition_value(self,attr):\n",
        "    with open(self.filename,\"r\") as f:\n",
        "      reader=csv.reader(f,delimiter=\",\")\n",
        "      next(reader)\n",
        "      index=list(self.columns).index(attr)\n",
        "      for i,line in enumerate(reader):\n",
        "        val=line[index]\n",
        "        break\n",
        "    return val\n",
        " \n",
        "  def write_partition(self,filename,attr,count,i,reader):\n",
        "      global pagenumber\n",
        "      global pageid\n",
        "      if(i==0):\n",
        "        next(reader)\n",
        "      with open(\"page_{}\".format(pagenumber).format(filename,attr,i),\"w\") as f:\n",
        "        writer=csv.writer(f)\n",
        "        pageids.update({\"{}_{}_{}\".format(filename,attr,i):\"page_{}\".format(pagenumber)})\n",
        "        pagenumber+=1\n",
        "        index=list(self.columns).index(attr)\n",
        "        writer.writerow(list(self.columns)[index:])\n",
        "        ind=0\n",
        "        for i ,line in enumerate(reader):\n",
        "          writer.writerow(line[index:])\n",
        "          ind+=1\n",
        "          if(ind==count):\n",
        "            break\n",
        "      \n",
        "  # def make_pages(self,filename,attr,count,i,reader):\n",
        "  #   block=[]\n",
        "  #   filestring=\"{}_{}_{}\".format(filename,attr,i)\n",
        "  #   with open(filestring,\"r\") as f1:\n",
        "  #     r1=csv.reader(f1)\n",
        "  #     ind=0\n",
        "  #     next(r1)\n",
        "  #     pageindex=0\n",
        "  #     for i,line in enumerate(r1):\n",
        "  #       block.append(line)\n",
        "  #       if(len(block)==self.numRowsinBlock):\n",
        "  #         newpage=Page(block,filestring,pageindex,list(self.columns))\n",
        "  #         block=[]\n",
        "  #         pageindex+=1\n",
        "  #     if(len(block)!=0):\n",
        "  #        newpage=Page(block,filestring,pageindex,list(self.columns))\n",
        "  #        block=[]\n",
        "  def getvalues(self):\n",
        "    df=pd.read_csv(self.filename)\n",
        "    return df.values\n",
        "\n",
        "  # def getpage(self):\n",
        "  #   p=Page(0,self.filename)\n",
        "  #   self.curr=0\n",
        "  #   return p.read_page()\n",
        "  \n",
        "  # def getnextpage(self):\n",
        "  #   self.curr+=1\n",
        "  #   if(self.curr<self.block_no):\n",
        "  #     p=Page(self.curr,self.filename)\n",
        "  #     return p.read_page()\n",
        "  #   else:\n",
        "  #     return False\n",
        "\n",
        "# class Page(Table):\n",
        "#   def __init__(self,block,filestring,pageindex,columns):\n",
        "#     self.filename=filestring+\"_page\"+str(pageindex)\n",
        "#     self.pageindex=pageindex\n",
        "#     temp=pd.DataFrame(block)\n",
        "#     temp.columns=columns\n",
        "#     self.numColumn=len(columns)\n",
        "#     self.numRows=len(block)\n",
        "#     # print(self.numRows,\"***\")\n",
        "#     temp.set_index(columns[0],inplace=True)\n",
        "#     temp.to_csv(self.filename)\n",
        "\n",
        "#   def read_page(self):\n",
        "#     df=pd.read_csv(self.filename[:-3]+\"_\"+str(self.pageindex)+\".csv\")\n",
        "#     return df"
      ],
      "metadata": {
        "id": "CHKl2yXzlXRO"
      },
      "execution_count": 438,
      "outputs": []
    },
    {
      "cell_type": "markdown",
      "source": [
        "##***Buc Algorithm***"
      ],
      "metadata": {
        "id": "EPo_o7Ixz75O"
      }
    },
    {
      "cell_type": "code",
      "source": [
        "global depth\n",
        "depth=0\n",
        "def compute(data,l,attr,vals):\n",
        "  global pagenumber\n",
        "  global pageid\n",
        "  global depth\n",
        "  # if(depth==300):\n",
        "  #   return\n",
        "  # depth+=1\n",
        "\n",
        "  if(attr==None):\n",
        "    s.append(l.copy())\n",
        "    if(len(vals)==0):\n",
        "      s[-1].append(data.numRows-1)\n",
        "    else:\n",
        "      s[-1].append(len(vals))\n",
        "    return \n",
        "\n",
        "  temp=[]\n",
        "\n",
        "  if(len(vals)==0):\n",
        "    if(data.numRows-1>data.numRowsinBlock):\n",
        "      datacounts=data.partition(attr)\n",
        "    else:\n",
        "      vals=data.getvalues()\n",
        "      index=list(data.columns).index(attr)\n",
        "      vals=vals[:,index:]\n",
        "      vals=vals[vals[:,0].argsort()]\n",
        "      datacounts=getcounts(vals)\n",
        "      temp=vals.copy()\n",
        "\n",
        "  else:\n",
        "    vals=vals[vals[:,0].argsort()]\n",
        "    datacounts=getcounts(vals)\n",
        "    temp=vals.copy()\n",
        "\n",
        "  k=0\n",
        "\n",
        "  for i in range(len(datacounts)):\n",
        "    c=datacounts[i]\n",
        "    if(len(vals)==0):\n",
        "      if(c>=minsup):\n",
        "        tab=Table(pageids[\"{}_{}_{}\".format(data.filename,attr,i)])\n",
        "        l.append(tab.get_partition_value(attr))\n",
        "        # print(c,data.numRows-1,l[0])\n",
        "        index=list(data.columns).index(attr)\n",
        "        \n",
        "        if(data.numColumns>index+1):\n",
        "          compute(tab,l.copy(),list(data.columns)[index+1],[])\n",
        "        else:\n",
        "          compute(tab,l.copy(),None,[])\n",
        "        l.pop()\n",
        "    else:\n",
        "      if(c>=minsup):\n",
        "        # print(c,len(vals))\n",
        "        l.append(vals[k,0])\n",
        "        if(vals.shape[1]>1):\n",
        "          compute(data,l.copy(),attr,vals[k:k+c,1:])\n",
        "        else:\n",
        "          compute(data,l.copy(),None,vals[k:k+c,1:])\n",
        "        l.pop()\n",
        "    k+=c\n",
        "  l.append(\"ALL\")\n",
        "  index=list(data.columns).index(attr)\n",
        "  if(len(vals)==0):\n",
        "    if(data.numColumns>index+1):\n",
        "      compute(data,l.copy(),list(data.columns)[index+1],[])\n",
        "    else:\n",
        "      compute(data,l.copy(),None,[])\n",
        "  else:\n",
        "    if(vals.shape[1]>1):\n",
        "      compute(data,l.copy(),attr,vals[:,1:])\n",
        "    else:\n",
        "      compute(data,l.copy(),None,vals[:,1:])\n",
        "\n",
        "  l.pop()\n"
      ],
      "metadata": {
        "id": "iz8DgVsQUTiq"
      },
      "execution_count": 439,
      "outputs": []
    },
    {
      "cell_type": "code",
      "source": [
        "df=pd.read_csv(\"master.csv\")\n",
        "df=preprocess_data(df)\n",
        "df.set_index(list(df.columns)[0],inplace=True)\n",
        "df.to_csv(\"preprocessed.csv\")"
      ],
      "metadata": {
        "colab": {
          "base_uri": "https://localhost:8080/"
        },
        "id": "KMvgc7bNZ6I8",
        "outputId": "e595b553-43e6-4115-9a8d-099757143a56"
      },
      "execution_count": 448,
      "outputs": [
        {
          "output_type": "stream",
          "name": "stdout",
          "text": [
            "[-1, 0, 10, 20, 30, 40, 50, 60, 70, 80, 90, 100, 110, 120, 130, 140, 150, 22339] ['0-0', '1-10', '11-20', '21-30', '31-40', '41-50', '51-60', '61-70', '71-80', '81-90', '91-100', '101-110', '111-120', '121-130', '131-140', '141-150', '>150)'] 18 17\n"
          ]
        }
      ]
    },
    {
      "cell_type": "markdown",
      "source": [
        "## ***Driver code***"
      ],
      "metadata": {
        "id": "UOiQaChLJQOf"
      }
    },
    {
      "cell_type": "code",
      "source": [
        "l=[]\n",
        "pageids={}\n",
        "pagenumber=0\n",
        "s=[]\n",
        "tab=Table(\"preprocessed.csv\")\n",
        "compute(tab,l,list(tab.columns)[0],[])"
      ],
      "metadata": {
        "id": "tnT2E1owGJ3L"
      },
      "execution_count": 452,
      "outputs": []
    },
    {
      "cell_type": "code",
      "source": [],
      "metadata": {
        "colab": {
          "base_uri": "https://localhost:8080/",
          "height": 424
        },
        "id": "ao_JTY4xachs",
        "outputId": "6b71310b-7a14-4180-efbf-1286ba0f58ab"
      },
      "execution_count": 451,
      "outputs": [
        {
          "output_type": "execute_result",
          "data": {
            "text/plain": [
              "          country  year     sex          age suicides_no         population  \\\n",
              "0         Albania  1987    male  15-24 years       21-30  Medium_population   \n",
              "1         Albania  1987    male  35-54 years       11-20  Medium_population   \n",
              "2         Albania  1987  female  15-24 years       11-20  Medium_population   \n",
              "3         Albania  1987    male    75+ years        1-10     Low_population   \n",
              "4         Albania  1987    male  25-34 years        1-10  Medium_population   \n",
              "...           ...   ...     ...          ...         ...                ...   \n",
              "27815  Uzbekistan  2014  female  35-54 years     101-110    High_population   \n",
              "27816  Uzbekistan  2014  female    75+ years        1-10  Medium_population   \n",
              "27817  Uzbekistan  2014    male   5-14 years       51-60    High_population   \n",
              "27818  Uzbekistan  2014  female   5-14 years       41-50    High_population   \n",
              "27819  Uzbekistan  2014  female  55-74 years       21-30  Medium_population   \n",
              "\n",
              "           gdp_for_year ($)  gdp_per_capita ($)       generation  \n",
              "0         Low_income_country             0-1000     Generation X  \n",
              "1         Low_income_country             0-1000           Silent  \n",
              "2         Low_income_country             0-1000     Generation X  \n",
              "3         Low_income_country             0-1000  G.I. Generation  \n",
              "4         Low_income_country             0-1000          Boomers  \n",
              "...                      ...                ...              ...  \n",
              "27815  Medium_income_country          2000-3000     Generation X  \n",
              "27816  Medium_income_country          2000-3000           Silent  \n",
              "27817  Medium_income_country          2000-3000     Generation Z  \n",
              "27818  Medium_income_country          2000-3000     Generation Z  \n",
              "27819  Medium_income_country          2000-3000          Boomers  \n",
              "\n",
              "[27820 rows x 9 columns]"
            ],
            "text/html": [
              "\n",
              "  <div id=\"df-58fc208f-c657-41d2-a51e-6ba4b56660e5\">\n",
              "    <div class=\"colab-df-container\">\n",
              "      <div>\n",
              "<style scoped>\n",
              "    .dataframe tbody tr th:only-of-type {\n",
              "        vertical-align: middle;\n",
              "    }\n",
              "\n",
              "    .dataframe tbody tr th {\n",
              "        vertical-align: top;\n",
              "    }\n",
              "\n",
              "    .dataframe thead th {\n",
              "        text-align: right;\n",
              "    }\n",
              "</style>\n",
              "<table border=\"1\" class=\"dataframe\">\n",
              "  <thead>\n",
              "    <tr style=\"text-align: right;\">\n",
              "      <th></th>\n",
              "      <th>country</th>\n",
              "      <th>year</th>\n",
              "      <th>sex</th>\n",
              "      <th>age</th>\n",
              "      <th>suicides_no</th>\n",
              "      <th>population</th>\n",
              "      <th>gdp_for_year ($)</th>\n",
              "      <th>gdp_per_capita ($)</th>\n",
              "      <th>generation</th>\n",
              "    </tr>\n",
              "  </thead>\n",
              "  <tbody>\n",
              "    <tr>\n",
              "      <th>0</th>\n",
              "      <td>Albania</td>\n",
              "      <td>1987</td>\n",
              "      <td>male</td>\n",
              "      <td>15-24 years</td>\n",
              "      <td>21-30</td>\n",
              "      <td>Medium_population</td>\n",
              "      <td>Low_income_country</td>\n",
              "      <td>0-1000</td>\n",
              "      <td>Generation X</td>\n",
              "    </tr>\n",
              "    <tr>\n",
              "      <th>1</th>\n",
              "      <td>Albania</td>\n",
              "      <td>1987</td>\n",
              "      <td>male</td>\n",
              "      <td>35-54 years</td>\n",
              "      <td>11-20</td>\n",
              "      <td>Medium_population</td>\n",
              "      <td>Low_income_country</td>\n",
              "      <td>0-1000</td>\n",
              "      <td>Silent</td>\n",
              "    </tr>\n",
              "    <tr>\n",
              "      <th>2</th>\n",
              "      <td>Albania</td>\n",
              "      <td>1987</td>\n",
              "      <td>female</td>\n",
              "      <td>15-24 years</td>\n",
              "      <td>11-20</td>\n",
              "      <td>Medium_population</td>\n",
              "      <td>Low_income_country</td>\n",
              "      <td>0-1000</td>\n",
              "      <td>Generation X</td>\n",
              "    </tr>\n",
              "    <tr>\n",
              "      <th>3</th>\n",
              "      <td>Albania</td>\n",
              "      <td>1987</td>\n",
              "      <td>male</td>\n",
              "      <td>75+ years</td>\n",
              "      <td>1-10</td>\n",
              "      <td>Low_population</td>\n",
              "      <td>Low_income_country</td>\n",
              "      <td>0-1000</td>\n",
              "      <td>G.I. Generation</td>\n",
              "    </tr>\n",
              "    <tr>\n",
              "      <th>4</th>\n",
              "      <td>Albania</td>\n",
              "      <td>1987</td>\n",
              "      <td>male</td>\n",
              "      <td>25-34 years</td>\n",
              "      <td>1-10</td>\n",
              "      <td>Medium_population</td>\n",
              "      <td>Low_income_country</td>\n",
              "      <td>0-1000</td>\n",
              "      <td>Boomers</td>\n",
              "    </tr>\n",
              "    <tr>\n",
              "      <th>...</th>\n",
              "      <td>...</td>\n",
              "      <td>...</td>\n",
              "      <td>...</td>\n",
              "      <td>...</td>\n",
              "      <td>...</td>\n",
              "      <td>...</td>\n",
              "      <td>...</td>\n",
              "      <td>...</td>\n",
              "      <td>...</td>\n",
              "    </tr>\n",
              "    <tr>\n",
              "      <th>27815</th>\n",
              "      <td>Uzbekistan</td>\n",
              "      <td>2014</td>\n",
              "      <td>female</td>\n",
              "      <td>35-54 years</td>\n",
              "      <td>101-110</td>\n",
              "      <td>High_population</td>\n",
              "      <td>Medium_income_country</td>\n",
              "      <td>2000-3000</td>\n",
              "      <td>Generation X</td>\n",
              "    </tr>\n",
              "    <tr>\n",
              "      <th>27816</th>\n",
              "      <td>Uzbekistan</td>\n",
              "      <td>2014</td>\n",
              "      <td>female</td>\n",
              "      <td>75+ years</td>\n",
              "      <td>1-10</td>\n",
              "      <td>Medium_population</td>\n",
              "      <td>Medium_income_country</td>\n",
              "      <td>2000-3000</td>\n",
              "      <td>Silent</td>\n",
              "    </tr>\n",
              "    <tr>\n",
              "      <th>27817</th>\n",
              "      <td>Uzbekistan</td>\n",
              "      <td>2014</td>\n",
              "      <td>male</td>\n",
              "      <td>5-14 years</td>\n",
              "      <td>51-60</td>\n",
              "      <td>High_population</td>\n",
              "      <td>Medium_income_country</td>\n",
              "      <td>2000-3000</td>\n",
              "      <td>Generation Z</td>\n",
              "    </tr>\n",
              "    <tr>\n",
              "      <th>27818</th>\n",
              "      <td>Uzbekistan</td>\n",
              "      <td>2014</td>\n",
              "      <td>female</td>\n",
              "      <td>5-14 years</td>\n",
              "      <td>41-50</td>\n",
              "      <td>High_population</td>\n",
              "      <td>Medium_income_country</td>\n",
              "      <td>2000-3000</td>\n",
              "      <td>Generation Z</td>\n",
              "    </tr>\n",
              "    <tr>\n",
              "      <th>27819</th>\n",
              "      <td>Uzbekistan</td>\n",
              "      <td>2014</td>\n",
              "      <td>female</td>\n",
              "      <td>55-74 years</td>\n",
              "      <td>21-30</td>\n",
              "      <td>Medium_population</td>\n",
              "      <td>Medium_income_country</td>\n",
              "      <td>2000-3000</td>\n",
              "      <td>Boomers</td>\n",
              "    </tr>\n",
              "  </tbody>\n",
              "</table>\n",
              "<p>27820 rows × 9 columns</p>\n",
              "</div>\n",
              "      <button class=\"colab-df-convert\" onclick=\"convertToInteractive('df-58fc208f-c657-41d2-a51e-6ba4b56660e5')\"\n",
              "              title=\"Convert this dataframe to an interactive table.\"\n",
              "              style=\"display:none;\">\n",
              "        \n",
              "  <svg xmlns=\"http://www.w3.org/2000/svg\" height=\"24px\"viewBox=\"0 0 24 24\"\n",
              "       width=\"24px\">\n",
              "    <path d=\"M0 0h24v24H0V0z\" fill=\"none\"/>\n",
              "    <path d=\"M18.56 5.44l.94 2.06.94-2.06 2.06-.94-2.06-.94-.94-2.06-.94 2.06-2.06.94zm-11 1L8.5 8.5l.94-2.06 2.06-.94-2.06-.94L8.5 2.5l-.94 2.06-2.06.94zm10 10l.94 2.06.94-2.06 2.06-.94-2.06-.94-.94-2.06-.94 2.06-2.06.94z\"/><path d=\"M17.41 7.96l-1.37-1.37c-.4-.4-.92-.59-1.43-.59-.52 0-1.04.2-1.43.59L10.3 9.45l-7.72 7.72c-.78.78-.78 2.05 0 2.83L4 21.41c.39.39.9.59 1.41.59.51 0 1.02-.2 1.41-.59l7.78-7.78 2.81-2.81c.8-.78.8-2.07 0-2.86zM5.41 20L4 18.59l7.72-7.72 1.47 1.35L5.41 20z\"/>\n",
              "  </svg>\n",
              "      </button>\n",
              "      \n",
              "  <style>\n",
              "    .colab-df-container {\n",
              "      display:flex;\n",
              "      flex-wrap:wrap;\n",
              "      gap: 12px;\n",
              "    }\n",
              "\n",
              "    .colab-df-convert {\n",
              "      background-color: #E8F0FE;\n",
              "      border: none;\n",
              "      border-radius: 50%;\n",
              "      cursor: pointer;\n",
              "      display: none;\n",
              "      fill: #1967D2;\n",
              "      height: 32px;\n",
              "      padding: 0 0 0 0;\n",
              "      width: 32px;\n",
              "    }\n",
              "\n",
              "    .colab-df-convert:hover {\n",
              "      background-color: #E2EBFA;\n",
              "      box-shadow: 0px 1px 2px rgba(60, 64, 67, 0.3), 0px 1px 3px 1px rgba(60, 64, 67, 0.15);\n",
              "      fill: #174EA6;\n",
              "    }\n",
              "\n",
              "    [theme=dark] .colab-df-convert {\n",
              "      background-color: #3B4455;\n",
              "      fill: #D2E3FC;\n",
              "    }\n",
              "\n",
              "    [theme=dark] .colab-df-convert:hover {\n",
              "      background-color: #434B5C;\n",
              "      box-shadow: 0px 1px 3px 1px rgba(0, 0, 0, 0.15);\n",
              "      filter: drop-shadow(0px 1px 2px rgba(0, 0, 0, 0.3));\n",
              "      fill: #FFFFFF;\n",
              "    }\n",
              "  </style>\n",
              "\n",
              "      <script>\n",
              "        const buttonEl =\n",
              "          document.querySelector('#df-58fc208f-c657-41d2-a51e-6ba4b56660e5 button.colab-df-convert');\n",
              "        buttonEl.style.display =\n",
              "          google.colab.kernel.accessAllowed ? 'block' : 'none';\n",
              "\n",
              "        async function convertToInteractive(key) {\n",
              "          const element = document.querySelector('#df-58fc208f-c657-41d2-a51e-6ba4b56660e5');\n",
              "          const dataTable =\n",
              "            await google.colab.kernel.invokeFunction('convertToInteractive',\n",
              "                                                     [key], {});\n",
              "          if (!dataTable) return;\n",
              "\n",
              "          const docLinkHtml = 'Like what you see? Visit the ' +\n",
              "            '<a target=\"_blank\" href=https://colab.research.google.com/notebooks/data_table.ipynb>data table notebook</a>'\n",
              "            + ' to learn more about interactive tables.';\n",
              "          element.innerHTML = '';\n",
              "          dataTable['output_type'] = 'display_data';\n",
              "          await google.colab.output.renderOutput(dataTable, element);\n",
              "          const docLink = document.createElement('div');\n",
              "          docLink.innerHTML = docLinkHtml;\n",
              "          element.appendChild(docLink);\n",
              "        }\n",
              "      </script>\n",
              "    </div>\n",
              "  </div>\n",
              "  "
            ]
          },
          "metadata": {},
          "execution_count": 451
        }
      ]
    },
    {
      "cell_type": "markdown",
      "source": [
        "## ***Test***"
      ],
      "metadata": {
        "id": "TsBXIw7mJYWc"
      }
    },
    {
      "cell_type": "code",
      "source": [
        "for i in range(len(y)):\n",
        "  y[i][1]=str(y[i][1])\n",
        "  s[i][1]=str(s[i][1])"
      ],
      "metadata": {
        "id": "vmxtE4P1ITLq"
      },
      "execution_count": 455,
      "outputs": []
    },
    {
      "cell_type": "code",
      "source": [
        "for i in range(len(s)):\n",
        "  if(s[i]!=y[i]):\n",
        "    print(i)\n",
        "    print(s[i])\n",
        "    print(y[i])\n",
        "    print()\n",
        "\n"
      ],
      "metadata": {
        "id": "LlQC-dSbvbrv"
      },
      "execution_count": 456,
      "outputs": []
    },
    {
      "cell_type": "code",
      "source": [],
      "metadata": {
        "colab": {
          "base_uri": "https://localhost:8080/"
        },
        "id": "RDFE2XM6O60l",
        "outputId": "f8e76e88-7884-4840-d743-0e547be08cc9"
      },
      "execution_count": 454,
      "outputs": [
        {
          "output_type": "execute_result",
          "data": {
            "text/plain": [
              "9388"
            ]
          },
          "metadata": {},
          "execution_count": 454
        }
      ]
    }
  ]
}